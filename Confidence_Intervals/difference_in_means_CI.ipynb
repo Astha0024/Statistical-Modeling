{
 "cells": [
  {
   "cell_type": "markdown",
   "id": "3ddf0f6d",
   "metadata": {
    "papermill": {
     "duration": 0.008765,
     "end_time": "2022-01-20T20:28:44.723463",
     "exception": false,
     "start_time": "2022-01-20T20:28:44.714698",
     "status": "completed"
    },
    "tags": []
   },
   "source": [
    "### Confidence Interval - Difference In Means"
   ]
  },
  {
   "cell_type": "code",
   "execution_count": 1,
   "id": "c040a092",
   "metadata": {
    "execution": {
     "iopub.execute_input": "2022-01-20T20:28:44.742013Z",
     "iopub.status.busy": "2022-01-20T20:28:44.740970Z",
     "iopub.status.idle": "2022-01-20T20:28:44.784921Z",
     "shell.execute_reply": "2022-01-20T20:28:44.784189Z",
     "shell.execute_reply.started": "2022-01-20T19:31:10.861018Z"
    },
    "papermill": {
     "duration": 0.054383,
     "end_time": "2022-01-20T20:28:44.785093",
     "exception": false,
     "start_time": "2022-01-20T20:28:44.730710",
     "status": "completed"
    },
    "tags": []
   },
   "outputs": [],
   "source": [
    "import pandas as pd\n",
    "import numpy as np\n",
    "import matplotlib.pyplot as plt\n",
    "\n",
    "%matplotlib inline\n",
    "np.random.seed(42)\n",
    "\n",
    "full_data = pd.read_csv('../input/coffee-dataset/coffee_dataset.csv')\n",
    "sample_data = full_data.sample(200)"
   ]
  },
  {
   "cell_type": "code",
   "execution_count": 2,
   "id": "1e9075ff",
   "metadata": {
    "execution": {
     "iopub.execute_input": "2022-01-20T20:28:44.807480Z",
     "iopub.status.busy": "2022-01-20T20:28:44.806842Z",
     "iopub.status.idle": "2022-01-20T20:28:44.822465Z",
     "shell.execute_reply": "2022-01-20T20:28:44.822941Z",
     "shell.execute_reply.started": "2022-01-20T19:31:21.573090Z"
    },
    "papermill": {
     "duration": 0.030996,
     "end_time": "2022-01-20T20:28:44.823133",
     "exception": false,
     "start_time": "2022-01-20T20:28:44.792137",
     "status": "completed"
    },
    "tags": []
   },
   "outputs": [
    {
     "data": {
      "text/html": [
       "<div>\n",
       "<style scoped>\n",
       "    .dataframe tbody tr th:only-of-type {\n",
       "        vertical-align: middle;\n",
       "    }\n",
       "\n",
       "    .dataframe tbody tr th {\n",
       "        vertical-align: top;\n",
       "    }\n",
       "\n",
       "    .dataframe thead th {\n",
       "        text-align: right;\n",
       "    }\n",
       "</style>\n",
       "<table border=\"1\" class=\"dataframe\">\n",
       "  <thead>\n",
       "    <tr style=\"text-align: right;\">\n",
       "      <th></th>\n",
       "      <th>user_id</th>\n",
       "      <th>age</th>\n",
       "      <th>drinks_coffee</th>\n",
       "      <th>height</th>\n",
       "    </tr>\n",
       "  </thead>\n",
       "  <tbody>\n",
       "    <tr>\n",
       "      <th>2402</th>\n",
       "      <td>2874</td>\n",
       "      <td>&lt;21</td>\n",
       "      <td>True</td>\n",
       "      <td>64.357154</td>\n",
       "    </tr>\n",
       "    <tr>\n",
       "      <th>2864</th>\n",
       "      <td>3670</td>\n",
       "      <td>&gt;=21</td>\n",
       "      <td>True</td>\n",
       "      <td>66.859636</td>\n",
       "    </tr>\n",
       "    <tr>\n",
       "      <th>2167</th>\n",
       "      <td>7441</td>\n",
       "      <td>&lt;21</td>\n",
       "      <td>False</td>\n",
       "      <td>66.659561</td>\n",
       "    </tr>\n",
       "    <tr>\n",
       "      <th>507</th>\n",
       "      <td>2781</td>\n",
       "      <td>&gt;=21</td>\n",
       "      <td>True</td>\n",
       "      <td>70.166241</td>\n",
       "    </tr>\n",
       "    <tr>\n",
       "      <th>1817</th>\n",
       "      <td>2875</td>\n",
       "      <td>&gt;=21</td>\n",
       "      <td>True</td>\n",
       "      <td>71.369120</td>\n",
       "    </tr>\n",
       "  </tbody>\n",
       "</table>\n",
       "</div>"
      ],
      "text/plain": [
       "      user_id   age  drinks_coffee     height\n",
       "2402     2874   <21           True  64.357154\n",
       "2864     3670  >=21           True  66.859636\n",
       "2167     7441   <21          False  66.659561\n",
       "507      2781  >=21           True  70.166241\n",
       "1817     2875  >=21           True  71.369120"
      ]
     },
     "execution_count": 2,
     "metadata": {},
     "output_type": "execute_result"
    }
   ],
   "source": [
    "sample_data.head()"
   ]
  },
  {
   "cell_type": "markdown",
   "id": "5d27d32c",
   "metadata": {
    "papermill": {
     "duration": 0.007061,
     "end_time": "2022-01-20T20:28:44.837833",
     "exception": false,
     "start_time": "2022-01-20T20:28:44.830772",
     "status": "completed"
    },
    "tags": []
   },
   "source": [
    "`1.` For 10,000 iterations, bootstrap sample your sample data, compute the difference in the average heights for coffee and non-coffee drinkers.  Build a 99% confidence interval using your sampling distribution.  "
   ]
  },
  {
   "cell_type": "code",
   "execution_count": 3,
   "id": "200b40d3",
   "metadata": {
    "execution": {
     "iopub.execute_input": "2022-01-20T20:28:44.891858Z",
     "iopub.status.busy": "2022-01-20T20:28:44.876266Z",
     "iopub.status.idle": "2022-01-20T20:28:57.272991Z",
     "shell.execute_reply": "2022-01-20T20:28:57.272377Z",
     "shell.execute_reply.started": "2022-01-20T19:32:22.118027Z"
    },
    "papermill": {
     "duration": 12.427486,
     "end_time": "2022-01-20T20:28:57.273186",
     "exception": false,
     "start_time": "2022-01-20T20:28:44.845700",
     "status": "completed"
    },
    "tags": []
   },
   "outputs": [
    {
     "data": {
      "text/plain": [
       "(0.10258900080921117, 2.538833370796657)"
      ]
     },
     "execution_count": 3,
     "metadata": {},
     "output_type": "execute_result"
    }
   ],
   "source": [
    "diffs = []\n",
    "for _ in range(10000):\n",
    "    bootsamp = sample_data.sample(200, replace = True)\n",
    "    coff_mean = bootsamp[bootsamp['drinks_coffee'] == True]['height'].mean()\n",
    "    nocoff_mean = bootsamp[bootsamp['drinks_coffee'] == False]['height'].mean()\n",
    "    diffs.append(coff_mean - nocoff_mean)\n",
    "    \n",
    "np.percentile(diffs, 0.5), np.percentile(diffs, 99.5) \n",
    "# statistical evidence coffee drinkers are on average taller (no zero within the confidence interval)"
   ]
  },
  {
   "cell_type": "markdown",
   "id": "d6246f20",
   "metadata": {
    "papermill": {
     "duration": 0.007421,
     "end_time": "2022-01-20T20:28:57.289150",
     "exception": false,
     "start_time": "2022-01-20T20:28:57.281729",
     "status": "completed"
    },
    "tags": []
   },
   "source": [
    "`2.` For 10,000 iterations, bootstrap sample your sample data, compute the difference in the average heights for those older than 21 and those younger than 21.  Build a 99% confidence interval using your sampling distribution.  "
   ]
  },
  {
   "cell_type": "code",
   "execution_count": 4,
   "id": "0fbd231a",
   "metadata": {
    "execution": {
     "iopub.execute_input": "2022-01-20T20:28:57.389339Z",
     "iopub.status.busy": "2022-01-20T20:28:57.355696Z",
     "iopub.status.idle": "2022-01-20T20:29:10.265902Z",
     "shell.execute_reply": "2022-01-20T20:29:10.265392Z",
     "shell.execute_reply.started": "2022-01-20T19:58:28.892572Z"
    },
    "papermill": {
     "duration": 12.969226,
     "end_time": "2022-01-20T20:29:10.266053",
     "exception": false,
     "start_time": "2022-01-20T20:28:57.296827",
     "status": "completed"
    },
    "tags": []
   },
   "outputs": [
    {
     "data": {
      "text/plain": [
       "(3.3652749452554938, 5.0932450670661495)"
      ]
     },
     "execution_count": 4,
     "metadata": {},
     "output_type": "execute_result"
    }
   ],
   "source": [
    "diffs_age = []\n",
    "for _ in range(10000):\n",
    "    bootsamp = sample_data.sample(200, replace = True)\n",
    "    under21_mean = bootsamp[bootsamp['age'] == '<21']['height'].mean()\n",
    "    over21_mean = bootsamp[bootsamp['age'] != '<21']['height'].mean()\n",
    "    diffs_age.append(over21_mean - under21_mean)\n",
    "    \n",
    "np.percentile(diffs_age, 0.5), np.percentile(diffs_age, 99.5)\n",
    "# statistical evidence that over21 are on average taller"
   ]
  },
  {
   "cell_type": "markdown",
   "id": "2fbc1285",
   "metadata": {
    "papermill": {
     "duration": 0.007858,
     "end_time": "2022-01-20T20:29:10.281718",
     "exception": false,
     "start_time": "2022-01-20T20:29:10.273860",
     "status": "completed"
    },
    "tags": []
   },
   "source": [
    "`3.` For 10,000 iterations bootstrap your sample data, compute the difference in the average height for coffee drinkers and the average height non-coffee drinkers for individuals under 21 years old.  Using your sampling distribution, build a 95% confidence interval.  Use your interval to start answering question 2 below."
   ]
  },
  {
   "cell_type": "code",
   "execution_count": 5,
   "id": "f3f7b0f5",
   "metadata": {
    "execution": {
     "iopub.execute_input": "2022-01-20T20:29:10.423468Z",
     "iopub.status.busy": "2022-01-20T20:29:10.338756Z",
     "iopub.status.idle": "2022-01-20T20:29:59.284369Z",
     "shell.execute_reply": "2022-01-20T20:29:59.284841Z",
     "shell.execute_reply.started": "2022-01-20T19:59:13.639448Z"
    },
    "papermill": {
     "duration": 48.995553,
     "end_time": "2022-01-20T20:29:59.285006",
     "exception": false,
     "start_time": "2022-01-20T20:29:10.289453",
     "status": "completed"
    },
    "tags": []
   },
   "outputs": [
    {
     "data": {
      "text/plain": [
       "(1.0593651244624271, 2.593155794067918)"
      ]
     },
     "execution_count": 5,
     "metadata": {},
     "output_type": "execute_result"
    }
   ],
   "source": [
    "diffs_coff_under21 = []\n",
    "for _ in range(10000):\n",
    "    bootsamp = sample_data.sample(200, replace = True)\n",
    "    under21_coff_mean = bootsamp.query(\"age == '<21' and drinks_coffee == True\")['height'].mean()\n",
    "    under21_nocoff_mean = bootsamp.query(\"age == '<21' and drinks_coffee == False\")['height'].mean()\n",
    "    diffs_coff_under21.append(under21_nocoff_mean - under21_coff_mean)\n",
    "    \n",
    "np.percentile(diffs_coff_under21, 2.5), np.percentile(diffs_coff_under21, 97.5)\n",
    "# For the under21 group, we have evidence that the non-coffee drinkers are on average taller"
   ]
  },
  {
   "cell_type": "markdown",
   "id": "aefe21dd",
   "metadata": {
    "papermill": {
     "duration": 0.007736,
     "end_time": "2022-01-20T20:29:59.300858",
     "exception": false,
     "start_time": "2022-01-20T20:29:59.293122",
     "status": "completed"
    },
    "tags": []
   },
   "source": [
    "`4.` For 10,000 iterations bootstrap your sample data, compute the difference in the average height for coffee drinkers and the average height non-coffee drinkers for individuals under 21 years old.  Using your sampling distribution, build a 95% confidence interval. Use your interval to finish answering the second quiz question below. As well as the following questions."
   ]
  },
  {
   "cell_type": "code",
   "execution_count": 6,
   "id": "1a38bbfb",
   "metadata": {
    "execution": {
     "iopub.execute_input": "2022-01-20T20:29:59.898161Z",
     "iopub.status.busy": "2022-01-20T20:29:59.659267Z",
     "iopub.status.idle": "2022-01-20T20:30:50.690136Z",
     "shell.execute_reply": "2022-01-20T20:30:50.690609Z",
     "shell.execute_reply.started": "2022-01-20T20:00:27.459393Z"
    },
    "papermill": {
     "duration": 51.381942,
     "end_time": "2022-01-20T20:30:50.690775",
     "exception": false,
     "start_time": "2022-01-20T20:29:59.308833",
     "status": "completed"
    },
    "tags": []
   },
   "outputs": [
    {
     "data": {
      "text/plain": [
       "(1.8278953970883665, 4.402632965477421)"
      ]
     },
     "execution_count": 6,
     "metadata": {},
     "output_type": "execute_result"
    }
   ],
   "source": [
    "diffs_coff_over21 = []\n",
    "for _ in range(10000):\n",
    "    bootsamp = sample_data.sample(200, replace = True)\n",
    "    over21_coff_mean = bootsamp.query(\"age != '<21' and drinks_coffee == True\")['height'].mean()\n",
    "    over21_nocoff_mean = bootsamp.query(\"age != '<21' and drinks_coffee == False\")['height'].mean()\n",
    "    diffs_coff_over21.append(over21_nocoff_mean - over21_coff_mean)\n",
    "    \n",
    "np.percentile(diffs_coff_over21, 2.5), np.percentile(diffs_coff_over21, 97.5)\n",
    "# For the over21 group, we have evidence that on average the non-coffee drinkers are taller"
   ]
  },
  {
   "cell_type": "markdown",
   "id": "00c586f3",
   "metadata": {
    "papermill": {
     "duration": 0.007952,
     "end_time": "2022-01-20T20:30:50.707419",
     "exception": false,
     "start_time": "2022-01-20T20:30:50.699467",
     "status": "completed"
    },
    "tags": []
   },
   "source": [
    "Within the under 21 and over 21 groups, we saw that on average non-coffee drinkers were taller.  But, when combined, we saw that on average coffee drinkers were on average taller.  This is again **Simpson's paradox**, and essentially there are more adults in the dataset who were coffee drinkers.  So these individuals made it seem like coffee drinkers were on average taller - which is a misleading result.  "
   ]
  }
 ],
 "metadata": {
  "kernelspec": {
   "display_name": "Python 3",
   "language": "python",
   "name": "python3"
  },
  "language_info": {
   "codemirror_mode": {
    "name": "ipython",
    "version": 3
   },
   "file_extension": ".py",
   "mimetype": "text/x-python",
   "name": "python",
   "nbconvert_exporter": "python",
   "pygments_lexer": "ipython3",
   "version": "3.7.12"
  },
  "papermill": {
   "default_parameters": {},
   "duration": 135.949965,
   "end_time": "2022-01-20T20:30:51.326099",
   "environment_variables": {},
   "exception": null,
   "input_path": "__notebook__.ipynb",
   "output_path": "__notebook__.ipynb",
   "parameters": {},
   "start_time": "2022-01-20T20:28:35.376134",
   "version": "2.3.3"
  }
 },
 "nbformat": 4,
 "nbformat_minor": 5
}
