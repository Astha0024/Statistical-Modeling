{
 "cells": [
  {
   "cell_type": "markdown",
   "id": "8e225e1c",
   "metadata": {
    "papermill": {
     "duration": 0.006061,
     "end_time": "2022-01-21T18:46:28.427816",
     "exception": false,
     "start_time": "2022-01-21T18:46:28.421755",
     "status": "completed"
    },
    "tags": []
   },
   "source": [
    "### Comparison of means with the bootstrapping method and traditional test give similar confidence interval\n",
    "\n",
    "### Bootstrapping can be used in place of any of these test like t-test, two sample t-test, paired t-test, z-test, chi-squared test, f-test"
   ]
  },
  {
   "cell_type": "code",
   "execution_count": 1,
   "id": "15bb8888",
   "metadata": {
    "execution": {
     "iopub.execute_input": "2022-01-21T18:46:28.444932Z",
     "iopub.status.busy": "2022-01-21T18:46:28.443154Z",
     "iopub.status.idle": "2022-01-21T18:46:28.490211Z",
     "shell.execute_reply": "2022-01-21T18:46:28.490820Z",
     "shell.execute_reply.started": "2022-01-21T18:42:25.435334Z"
    },
    "papermill": {
     "duration": 0.057593,
     "end_time": "2022-01-21T18:46:28.491142",
     "exception": false,
     "start_time": "2022-01-21T18:46:28.433549",
     "status": "completed"
    },
    "tags": []
   },
   "outputs": [],
   "source": [
    "import pandas as pd\n",
    "import numpy as np\n",
    "import matplotlib.pyplot as plt\n",
    "%matplotlib inline\n",
    "np.random.seed(42)\n",
    "\n",
    "coffee_full = pd.read_csv('../input/coffee-dataset/coffee_dataset.csv')\n",
    "coffee_red = coffee_full.sample(200)"
   ]
  },
  {
   "cell_type": "code",
   "execution_count": 2,
   "id": "f995deaf",
   "metadata": {
    "collapsed": false,
    "execution": {
     "iopub.execute_input": "2022-01-21T18:46:28.505324Z",
     "iopub.status.busy": "2022-01-21T18:46:28.504365Z",
     "iopub.status.idle": "2022-01-21T18:46:41.856987Z",
     "shell.execute_reply": "2022-01-21T18:46:41.856366Z",
     "shell.execute_reply.started": "2022-01-21T18:42:28.755868Z"
    },
    "jupyter": {
     "outputs_hidden": false
    },
    "papermill": {
     "duration": 13.360571,
     "end_time": "2022-01-21T18:46:41.857121",
     "exception": false,
     "start_time": "2022-01-21T18:46:28.496550",
     "status": "completed"
    },
    "tags": []
   },
   "outputs": [
    {
     "data": {
      "text/plain": [
       "(0.396568679090932, 2.243258868112464)"
      ]
     },
     "execution_count": 2,
     "metadata": {},
     "output_type": "execute_result"
    }
   ],
   "source": [
    "diff = []\n",
    "\n",
    "for _ in range(10000):\n",
    "    bootsample = coffee_red.sample(200, replace=True)\n",
    "    mean_coff = bootsample[bootsample['drinks_coffee'] == True]['height'].mean()\n",
    "    mean_nocoff = bootsample[bootsample['drinks_coffee'] == False]['height'].mean()\n",
    "    diff.append(mean_coff - mean_nocoff)\n",
    "\n",
    "np.percentile(diff, 2.5), np.percentile(diff, 97.5)"
   ]
  },
  {
   "cell_type": "code",
   "execution_count": 3,
   "id": "12b7b33f",
   "metadata": {
    "collapsed": false,
    "execution": {
     "iopub.execute_input": "2022-01-21T18:46:41.874908Z",
     "iopub.status.busy": "2022-01-21T18:46:41.874187Z",
     "iopub.status.idle": "2022-01-21T18:46:42.953135Z",
     "shell.execute_reply": "2022-01-21T18:46:42.953764Z",
     "shell.execute_reply.started": "2022-01-21T18:42:48.767547Z"
    },
    "jupyter": {
     "outputs_hidden": false
    },
    "papermill": {
     "duration": 1.090944,
     "end_time": "2022-01-21T18:46:42.953938",
     "exception": false,
     "start_time": "2022-01-21T18:46:41.862994",
     "status": "completed"
    },
    "tags": []
   },
   "outputs": [
    {
     "data": {
      "text/plain": [
       "(0.3960010615918562, 2.2734131570228913)"
      ]
     },
     "execution_count": 3,
     "metadata": {},
     "output_type": "execute_result"
    }
   ],
   "source": [
    "import statsmodels.stats.api as sms\n",
    "\n",
    "X1 = coffee_red[coffee_red['drinks_coffee'] == True]['height'] \n",
    "X2 = coffee_red[coffee_red['drinks_coffee'] == False]['height']\n",
    "\n",
    "cm = sms.CompareMeans(sms.DescrStatsW(X1), sms.DescrStatsW(X2))\n",
    "cm.tconfint_diff(usevar='unequal')"
   ]
  },
  {
   "cell_type": "code",
   "execution_count": null,
   "id": "1aa142ef",
   "metadata": {
    "collapsed": true,
    "jupyter": {
     "outputs_hidden": true
    },
    "papermill": {
     "duration": 0.005693,
     "end_time": "2022-01-21T18:46:42.965694",
     "exception": false,
     "start_time": "2022-01-21T18:46:42.960001",
     "status": "completed"
    },
    "tags": []
   },
   "outputs": [],
   "source": []
  }
 ],
 "metadata": {
  "kernelspec": {
   "display_name": "Python 3",
   "language": "python",
   "name": "python3"
  },
  "language_info": {
   "codemirror_mode": {
    "name": "ipython",
    "version": 3
   },
   "file_extension": ".py",
   "mimetype": "text/x-python",
   "name": "python",
   "nbconvert_exporter": "python",
   "pygments_lexer": "ipython3",
   "version": "3.7.12"
  },
  "papermill": {
   "default_parameters": {},
   "duration": 25.844331,
   "end_time": "2022-01-21T18:46:43.681849",
   "environment_variables": {},
   "exception": null,
   "input_path": "__notebook__.ipynb",
   "output_path": "__notebook__.ipynb",
   "parameters": {},
   "start_time": "2022-01-21T18:46:17.837518",
   "version": "2.3.3"
  }
 },
 "nbformat": 4,
 "nbformat_minor": 5
}
