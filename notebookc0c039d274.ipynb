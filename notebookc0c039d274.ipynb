{
 "cells": [
  {
   "cell_type": "markdown",
   "id": "37b281ff",
   "metadata": {
    "papermill": {
     "duration": 0.00772,
     "end_time": "2022-01-14T21:02:07.264198",
     "exception": false,
     "start_time": "2022-01-14T21:02:07.256478",
     "status": "completed"
    },
    "tags": []
   },
   "source": [
    "# Coin Flips and Die Rolls\n",
    "Use NumPy to create simulations and compute proportions for the following outcomes. \n",
    "\n",
    "**Please note again that we are using 0 to represent heads, and 1 to represent tails.**"
   ]
  },
  {
   "cell_type": "code",
   "execution_count": 1,
   "id": "36d169b0",
   "metadata": {
    "execution": {
     "iopub.execute_input": "2022-01-14T21:02:07.290123Z",
     "iopub.status.busy": "2022-01-14T21:02:07.288470Z",
     "iopub.status.idle": "2022-01-14T21:02:07.294938Z",
     "shell.execute_reply": "2022-01-14T21:02:07.294176Z",
     "shell.execute_reply.started": "2022-01-14T20:43:36.683800Z"
    },
    "papermill": {
     "duration": 0.02168,
     "end_time": "2022-01-14T21:02:07.295098",
     "exception": false,
     "start_time": "2022-01-14T21:02:07.273418",
     "status": "completed"
    },
    "tags": []
   },
   "outputs": [],
   "source": [
    "# import numpy\n",
    "import numpy as np\n"
   ]
  },
  {
   "cell_type": "markdown",
   "id": "04bc712a",
   "metadata": {
    "papermill": {
     "duration": 0.00663,
     "end_time": "2022-01-14T21:02:07.309147",
     "exception": false,
     "start_time": "2022-01-14T21:02:07.302517",
     "status": "completed"
    },
    "tags": []
   },
   "source": [
    "### 1. Two fair coin flips produce exactly two heads"
   ]
  },
  {
   "cell_type": "code",
   "execution_count": 2,
   "id": "9e103e8f",
   "metadata": {
    "execution": {
     "iopub.execute_input": "2022-01-14T21:02:07.330728Z",
     "iopub.status.busy": "2022-01-14T21:02:07.330060Z",
     "iopub.status.idle": "2022-01-14T21:02:07.367474Z",
     "shell.execute_reply": "2022-01-14T21:02:07.368329Z",
     "shell.execute_reply.started": "2022-01-14T21:01:44.274547Z"
    },
    "papermill": {
     "duration": 0.052378,
     "end_time": "2022-01-14T21:02:07.368596",
     "exception": false,
     "start_time": "2022-01-14T21:02:07.316218",
     "status": "completed"
    },
    "tags": []
   },
   "outputs": [
    {
     "name": "stdout",
     "output_type": "stream",
     "text": [
      "0.250097\n"
     ]
    }
   ],
   "source": [
    "# simulate 1 million tests of two fair coin flips\n",
    "tests = np.random.randint(2, size=(int(1e6), 2))\n",
    "\n",
    "# sums of all tests\n",
    "test_sums = tests.sum(axis=1)\n",
    "\n",
    "# proportion of tests that produced exactly two heads\n",
    "print((test_sums == 0).mean())"
   ]
  },
  {
   "cell_type": "markdown",
   "id": "21725362",
   "metadata": {
    "papermill": {
     "duration": 0.006754,
     "end_time": "2022-01-14T21:02:07.384101",
     "exception": false,
     "start_time": "2022-01-14T21:02:07.377347",
     "status": "completed"
    },
    "tags": []
   },
   "source": [
    "### 2. Three fair coin flips produce exactly one head"
   ]
  },
  {
   "cell_type": "code",
   "execution_count": 3,
   "id": "b2e6ffbc",
   "metadata": {
    "execution": {
     "iopub.execute_input": "2022-01-14T21:02:07.402868Z",
     "iopub.status.busy": "2022-01-14T21:02:07.401814Z",
     "iopub.status.idle": "2022-01-14T21:02:07.451579Z",
     "shell.execute_reply": "2022-01-14T21:02:07.451027Z",
     "shell.execute_reply.started": "2022-01-14T20:46:24.063482Z"
    },
    "papermill": {
     "duration": 0.060589,
     "end_time": "2022-01-14T21:02:07.451728",
     "exception": false,
     "start_time": "2022-01-14T21:02:07.391139",
     "status": "completed"
    },
    "tags": []
   },
   "outputs": [
    {
     "data": {
      "text/plain": [
       "0.37485"
      ]
     },
     "execution_count": 3,
     "metadata": {},
     "output_type": "execute_result"
    }
   ],
   "source": [
    "# simulate 1 million tests of three fair coin flips\n",
    "tests = np.random.randint(2,size=(int(1e6),3))\n",
    "\n",
    "# sums of all tests\n",
    "test_sums = tests.sum(axis=1)\n",
    "\n",
    "# proportion of tests that produced exactly one head\n",
    "(test_sums == 2).mean()"
   ]
  },
  {
   "cell_type": "markdown",
   "id": "82b77902",
   "metadata": {
    "papermill": {
     "duration": 0.007222,
     "end_time": "2022-01-14T21:02:07.466549",
     "exception": false,
     "start_time": "2022-01-14T21:02:07.459327",
     "status": "completed"
    },
    "tags": []
   },
   "source": [
    "### 3. Three biased coin flips with P(H) = 0.6 produce exactly one head"
   ]
  },
  {
   "cell_type": "code",
   "execution_count": 4,
   "id": "d54a3667",
   "metadata": {
    "execution": {
     "iopub.execute_input": "2022-01-14T21:02:07.488669Z",
     "iopub.status.busy": "2022-01-14T21:02:07.487776Z",
     "iopub.status.idle": "2022-01-14T21:02:07.606806Z",
     "shell.execute_reply": "2022-01-14T21:02:07.607331Z",
     "shell.execute_reply.started": "2022-01-14T20:48:15.005834Z"
    },
    "papermill": {
     "duration": 0.133603,
     "end_time": "2022-01-14T21:02:07.607522",
     "exception": false,
     "start_time": "2022-01-14T21:02:07.473919",
     "status": "completed"
    },
    "tags": []
   },
   "outputs": [
    {
     "data": {
      "text/plain": [
       "0.288019"
      ]
     },
     "execution_count": 4,
     "metadata": {},
     "output_type": "execute_result"
    }
   ],
   "source": [
    "# simulate 1 million tests of three biased coin flips\n",
    "# hint: use np.random.choice()\n",
    "tests = np.random.choice([0,1],size=(int(1e6),3), p=[0.6,0.4])\n",
    "\n",
    "# sums of all tests\n",
    "test_sums = tests.sum(axis=1)\n",
    "\n",
    "# proportion of tests that produced exactly one head\n",
    "(test_sums == 2).mean()"
   ]
  },
  {
   "cell_type": "markdown",
   "id": "5ccf5b70",
   "metadata": {
    "papermill": {
     "duration": 0.007486,
     "end_time": "2022-01-14T21:02:07.622687",
     "exception": false,
     "start_time": "2022-01-14T21:02:07.615201",
     "status": "completed"
    },
    "tags": []
   },
   "source": [
    "### 4. A die rolls an even number"
   ]
  },
  {
   "cell_type": "code",
   "execution_count": 5,
   "id": "7c144bda",
   "metadata": {
    "execution": {
     "iopub.execute_input": "2022-01-14T21:02:07.641329Z",
     "iopub.status.busy": "2022-01-14T21:02:07.640697Z",
     "iopub.status.idle": "2022-01-14T21:02:07.680333Z",
     "shell.execute_reply": "2022-01-14T21:02:07.679662Z",
     "shell.execute_reply.started": "2022-01-14T20:52:28.345366Z"
    },
    "papermill": {
     "duration": 0.050441,
     "end_time": "2022-01-14T21:02:07.680622",
     "exception": false,
     "start_time": "2022-01-14T21:02:07.630181",
     "status": "completed"
    },
    "tags": []
   },
   "outputs": [
    {
     "data": {
      "text/plain": [
       "0.500199"
      ]
     },
     "execution_count": 5,
     "metadata": {},
     "output_type": "execute_result"
    }
   ],
   "source": [
    "# simulate 1 million tests of one die roll\n",
    "tests = np.random.choice(np.arange(1,7),size=(int(1e6)))\n",
    "\n",
    "# proportion of tests that produced an even number\n",
    "(tests % 2 == 0).mean()"
   ]
  },
  {
   "cell_type": "markdown",
   "id": "76d146cb",
   "metadata": {
    "papermill": {
     "duration": 0.008209,
     "end_time": "2022-01-14T21:02:07.697158",
     "exception": false,
     "start_time": "2022-01-14T21:02:07.688949",
     "status": "completed"
    },
    "tags": []
   },
   "source": [
    "### 5. Two dice roll a double"
   ]
  },
  {
   "cell_type": "code",
   "execution_count": 6,
   "id": "6933f80a",
   "metadata": {
    "execution": {
     "iopub.execute_input": "2022-01-14T21:02:07.727096Z",
     "iopub.status.busy": "2022-01-14T21:02:07.726193Z",
     "iopub.status.idle": "2022-01-14T21:02:07.766106Z",
     "shell.execute_reply": "2022-01-14T21:02:07.764090Z",
     "shell.execute_reply.started": "2022-01-14T20:56:33.560073Z"
    },
    "papermill": {
     "duration": 0.059326,
     "end_time": "2022-01-14T21:02:07.766272",
     "exception": false,
     "start_time": "2022-01-14T21:02:07.706946",
     "status": "completed"
    },
    "tags": []
   },
   "outputs": [
    {
     "data": {
      "text/plain": [
       "0.16694"
      ]
     },
     "execution_count": 6,
     "metadata": {},
     "output_type": "execute_result"
    }
   ],
   "source": [
    "# simulate the first million die rolls\n",
    "first = np.random.choice(np.arange(1,7),size=(int(1e6)))\n",
    "\n",
    "# simulate the second million die rolls\n",
    "second = np.random.choice(np.arange(1,7),size=(int(1e6)))\n",
    "\n",
    "# proportion of tests where the 1st and 2nd die rolled the same number\n",
    "(first == second).mean()"
   ]
  }
 ],
 "metadata": {
  "kernelspec": {
   "display_name": "Python 3",
   "language": "python",
   "name": "python3"
  },
  "language_info": {
   "codemirror_mode": {
    "name": "ipython",
    "version": 3
   },
   "file_extension": ".py",
   "mimetype": "text/x-python",
   "name": "python",
   "nbconvert_exporter": "python",
   "pygments_lexer": "ipython3",
   "version": "3.7.12"
  },
  "papermill": {
   "default_parameters": {},
   "duration": 9.698791,
   "end_time": "2022-01-14T21:02:08.384560",
   "environment_variables": {},
   "exception": null,
   "input_path": "__notebook__.ipynb",
   "output_path": "__notebook__.ipynb",
   "parameters": {},
   "start_time": "2022-01-14T21:01:58.685769",
   "version": "2.3.3"
  }
 },
 "nbformat": 4,
 "nbformat_minor": 5
}
