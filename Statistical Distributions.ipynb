{
 "cells": [
  {
   "cell_type": "markdown",
   "id": "f6615ba0",
   "metadata": {},
   "source": [
    "### Mean and median"
   ]
  },
  {
   "cell_type": "code",
   "execution_count": 1,
   "id": "a1ea38c9",
   "metadata": {},
   "outputs": [],
   "source": [
    "import pandas as pd\n",
    "\n",
    "#Create a Dictionary of series\n",
    "d = {'Name':pd.Series(['Tom','James','Ricky','Vin','Steve','Smith','Jack',\n",
    "   'Lee','Chanchal','Gasper','Naviya','Andres']),\n",
    "   'Age':pd.Series([25,26,25,23,30,29,23,34,40,30,51,46]),\n",
    "   'Rating':pd.Series([4.23,3.24,3.98,2.56,3.20,4.6,3.8,3.78,2.98,4.80,4.10,3.65])}"
   ]
  },
  {
   "cell_type": "code",
   "execution_count": 2,
   "id": "e41615de",
   "metadata": {},
   "outputs": [
    {
     "data": {
      "text/plain": [
       "{'Name': 0          Tom\n",
       " 1        James\n",
       " 2        Ricky\n",
       " 3          Vin\n",
       " 4        Steve\n",
       " 5        Smith\n",
       " 6         Jack\n",
       " 7          Lee\n",
       " 8     Chanchal\n",
       " 9       Gasper\n",
       " 10      Naviya\n",
       " 11      Andres\n",
       " dtype: object,\n",
       " 'Age': 0     25\n",
       " 1     26\n",
       " 2     25\n",
       " 3     23\n",
       " 4     30\n",
       " 5     29\n",
       " 6     23\n",
       " 7     34\n",
       " 8     40\n",
       " 9     30\n",
       " 10    51\n",
       " 11    46\n",
       " dtype: int64,\n",
       " 'Rating': 0     4.23\n",
       " 1     3.24\n",
       " 2     3.98\n",
       " 3     2.56\n",
       " 4     3.20\n",
       " 5     4.60\n",
       " 6     3.80\n",
       " 7     3.78\n",
       " 8     2.98\n",
       " 9     4.80\n",
       " 10    4.10\n",
       " 11    3.65\n",
       " dtype: float64}"
      ]
     },
     "execution_count": 2,
     "metadata": {},
     "output_type": "execute_result"
    }
   ],
   "source": [
    "d"
   ]
  },
  {
   "cell_type": "code",
   "execution_count": 3,
   "id": "01a28b8d",
   "metadata": {},
   "outputs": [
    {
     "data": {
      "text/html": [
       "<div>\n",
       "<style scoped>\n",
       "    .dataframe tbody tr th:only-of-type {\n",
       "        vertical-align: middle;\n",
       "    }\n",
       "\n",
       "    .dataframe tbody tr th {\n",
       "        vertical-align: top;\n",
       "    }\n",
       "\n",
       "    .dataframe thead th {\n",
       "        text-align: right;\n",
       "    }\n",
       "</style>\n",
       "<table border=\"1\" class=\"dataframe\">\n",
       "  <thead>\n",
       "    <tr style=\"text-align: right;\">\n",
       "      <th></th>\n",
       "      <th>Name</th>\n",
       "      <th>Age</th>\n",
       "      <th>Rating</th>\n",
       "    </tr>\n",
       "  </thead>\n",
       "  <tbody>\n",
       "    <tr>\n",
       "      <th>0</th>\n",
       "      <td>Tom</td>\n",
       "      <td>25</td>\n",
       "      <td>4.23</td>\n",
       "    </tr>\n",
       "    <tr>\n",
       "      <th>1</th>\n",
       "      <td>James</td>\n",
       "      <td>26</td>\n",
       "      <td>3.24</td>\n",
       "    </tr>\n",
       "    <tr>\n",
       "      <th>2</th>\n",
       "      <td>Ricky</td>\n",
       "      <td>25</td>\n",
       "      <td>3.98</td>\n",
       "    </tr>\n",
       "    <tr>\n",
       "      <th>3</th>\n",
       "      <td>Vin</td>\n",
       "      <td>23</td>\n",
       "      <td>2.56</td>\n",
       "    </tr>\n",
       "    <tr>\n",
       "      <th>4</th>\n",
       "      <td>Steve</td>\n",
       "      <td>30</td>\n",
       "      <td>3.20</td>\n",
       "    </tr>\n",
       "    <tr>\n",
       "      <th>5</th>\n",
       "      <td>Smith</td>\n",
       "      <td>29</td>\n",
       "      <td>4.60</td>\n",
       "    </tr>\n",
       "    <tr>\n",
       "      <th>6</th>\n",
       "      <td>Jack</td>\n",
       "      <td>23</td>\n",
       "      <td>3.80</td>\n",
       "    </tr>\n",
       "    <tr>\n",
       "      <th>7</th>\n",
       "      <td>Lee</td>\n",
       "      <td>34</td>\n",
       "      <td>3.78</td>\n",
       "    </tr>\n",
       "    <tr>\n",
       "      <th>8</th>\n",
       "      <td>Chanchal</td>\n",
       "      <td>40</td>\n",
       "      <td>2.98</td>\n",
       "    </tr>\n",
       "    <tr>\n",
       "      <th>9</th>\n",
       "      <td>Gasper</td>\n",
       "      <td>30</td>\n",
       "      <td>4.80</td>\n",
       "    </tr>\n",
       "    <tr>\n",
       "      <th>10</th>\n",
       "      <td>Naviya</td>\n",
       "      <td>51</td>\n",
       "      <td>4.10</td>\n",
       "    </tr>\n",
       "    <tr>\n",
       "      <th>11</th>\n",
       "      <td>Andres</td>\n",
       "      <td>46</td>\n",
       "      <td>3.65</td>\n",
       "    </tr>\n",
       "  </tbody>\n",
       "</table>\n",
       "</div>"
      ],
      "text/plain": [
       "        Name  Age  Rating\n",
       "0        Tom   25    4.23\n",
       "1      James   26    3.24\n",
       "2      Ricky   25    3.98\n",
       "3        Vin   23    2.56\n",
       "4      Steve   30    3.20\n",
       "5      Smith   29    4.60\n",
       "6       Jack   23    3.80\n",
       "7        Lee   34    3.78\n",
       "8   Chanchal   40    2.98\n",
       "9     Gasper   30    4.80\n",
       "10    Naviya   51    4.10\n",
       "11    Andres   46    3.65"
      ]
     },
     "execution_count": 3,
     "metadata": {},
     "output_type": "execute_result"
    }
   ],
   "source": [
    "df = pd.DataFrame(d)\n",
    "df"
   ]
  },
  {
   "cell_type": "code",
   "execution_count": 4,
   "id": "acbe2cf6",
   "metadata": {},
   "outputs": [
    {
     "data": {
      "text/plain": [
       "Age       31.833333\n",
       "Rating     3.743333\n",
       "dtype: float64"
      ]
     },
     "execution_count": 4,
     "metadata": {},
     "output_type": "execute_result"
    }
   ],
   "source": [
    "#Mean\n",
    "df.mean()"
   ]
  },
  {
   "cell_type": "code",
   "execution_count": 5,
   "id": "7981c7bd",
   "metadata": {},
   "outputs": [
    {
     "data": {
      "text/plain": [
       "Age       29.50\n",
       "Rating     3.79\n",
       "dtype: float64"
      ]
     },
     "execution_count": 5,
     "metadata": {},
     "output_type": "execute_result"
    }
   ],
   "source": [
    "#Median\n",
    "df.median()"
   ]
  },
  {
   "cell_type": "markdown",
   "id": "dc980aab",
   "metadata": {},
   "source": [
    "### Mode"
   ]
  },
  {
   "cell_type": "code",
   "execution_count": 11,
   "id": "9a9ca296",
   "metadata": {},
   "outputs": [
    {
     "data": {
      "text/plain": [
       "0    3\n",
       "dtype: object"
      ]
     },
     "execution_count": 11,
     "metadata": {},
     "output_type": "execute_result"
    }
   ],
   "source": [
    "pd.Series(['1','1','2','3','3','3']).mode()"
   ]
  },
  {
   "cell_type": "markdown",
   "id": "6394986c",
   "metadata": {},
   "source": [
    "### Standard Deviation"
   ]
  },
  {
   "cell_type": "code",
   "execution_count": 12,
   "id": "15896fed",
   "metadata": {},
   "outputs": [
    {
     "data": {
      "text/plain": [
       "Age       9.232682\n",
       "Rating    0.661628\n",
       "dtype: float64"
      ]
     },
     "execution_count": 12,
     "metadata": {},
     "output_type": "execute_result"
    }
   ],
   "source": [
    "df.std()"
   ]
  },
  {
   "cell_type": "markdown",
   "id": "2e412ad9",
   "metadata": {},
   "source": [
    "### Skewness\n",
    "- It used to determine whether the data is symmetric or skewed. If the index is between -1 and 1, then the distribution is symmetric.\n",
    "- less than -1 implies left skew\n",
    "- more than 1 implies right skew"
   ]
  },
  {
   "cell_type": "code",
   "execution_count": 14,
   "id": "7eb50b0f",
   "metadata": {},
   "outputs": [
    {
     "data": {
      "text/plain": [
       "Age       1.135089\n",
       "Rating   -0.153629\n",
       "dtype: float64"
      ]
     },
     "execution_count": 14,
     "metadata": {},
     "output_type": "execute_result"
    }
   ],
   "source": [
    "df.skew()\n",
    "# Here rating is symmetric and age is skewed to the right"
   ]
  },
  {
   "cell_type": "markdown",
   "id": "da97f8a9",
   "metadata": {},
   "source": [
    "### Random numbers"
   ]
  },
  {
   "cell_type": "code",
   "execution_count": 50,
   "id": "25caf50e",
   "metadata": {},
   "outputs": [],
   "source": [
    "import random\n",
    "random.seed(12)"
   ]
  },
  {
   "cell_type": "code",
   "execution_count": 53,
   "id": "d7681633",
   "metadata": {},
   "outputs": [
    {
     "data": {
      "text/plain": [
       "6"
      ]
     },
     "execution_count": 53,
     "metadata": {},
     "output_type": "execute_result"
    }
   ],
   "source": [
    "#Get a random integer within a specified range\n",
    "random.randint(0,10)"
   ]
  },
  {
   "cell_type": "code",
   "execution_count": 55,
   "id": "08a372b5",
   "metadata": {},
   "outputs": [
    {
     "data": {
      "text/plain": [
       "4"
      ]
     },
     "execution_count": 55,
     "metadata": {},
     "output_type": "execute_result"
    }
   ],
   "source": [
    "#Get a random element from a sequence\n",
    "random.choice([1,2,3,4,5,6])"
   ]
  },
  {
   "cell_type": "code",
   "execution_count": 56,
   "id": "34b60f6f",
   "metadata": {},
   "outputs": [
    {
     "data": {
      "text/plain": [
       "0.15182916951419145"
      ]
     },
     "execution_count": 56,
     "metadata": {},
     "output_type": "execute_result"
    }
   ],
   "source": [
    "#Get a random real number between 0 to 1\n",
    "random.random()"
   ]
  },
  {
   "cell_type": "code",
   "execution_count": 57,
   "id": "e3d5448f",
   "metadata": {},
   "outputs": [
    {
     "data": {
      "text/plain": [
       "4.3645592692498845"
      ]
     },
     "execution_count": 57,
     "metadata": {},
     "output_type": "execute_result"
    }
   ],
   "source": [
    "#Get a random real number within a specified range\n",
    "random.uniform(0,10)"
   ]
  },
  {
   "cell_type": "markdown",
   "id": "3a7b7591",
   "metadata": {},
   "source": [
    "### Uniform distribution\n",
    "- values within a certain range are equally likely to occur\n",
    "- values outside that range never occur"
   ]
  },
  {
   "cell_type": "code",
   "execution_count": 36,
   "id": "b667641e",
   "metadata": {},
   "outputs": [],
   "source": [
    "import scipy.stats as stats"
   ]
  },
  {
   "cell_type": "code",
   "execution_count": 41,
   "id": "07a32fcf",
   "metadata": {},
   "outputs": [
    {
     "data": {
      "text/plain": [
       "array([8.68624285, 3.05178084, 0.19246017, ..., 0.22995989, 1.01076915,\n",
       "       4.56234019])"
      ]
     },
     "execution_count": 41,
     "metadata": {},
     "output_type": "execute_result"
    }
   ],
   "source": [
    "# Generate 100,000 numbers from a uniform distribution and plot them\n",
    "# rvs is the function that generates random numbers from the specified distribution\n",
    "\n",
    "stats.uniform.rvs(size=100000,\n",
    "                 loc=0, #from 0\n",
    "                 scale=10 #to 10\n",
    "                 )\n"
   ]
  },
  {
   "cell_type": "code",
   "execution_count": 42,
   "id": "40601807",
   "metadata": {},
   "outputs": [],
   "source": [
    "uniform_data = stats.uniform.rvs(size=100000,\n",
    "                 loc=0, #from 0\n",
    "                 scale=10 #to 10\n",
    "                 )"
   ]
  },
  {
   "cell_type": "code",
   "execution_count": 43,
   "id": "af2daccd",
   "metadata": {},
   "outputs": [
    {
     "data": {
      "text/plain": [
       "<AxesSubplot:ylabel='Density'>"
      ]
     },
     "execution_count": 43,
     "metadata": {},
     "output_type": "execute_result"
    },
    {
     "data": {
      "image/png": "[encoded data removed]",
      "text/plain": [
       "<Figure size 432x288 with 1 Axes>"
      ]
     },
     "metadata": {
      "needs_background": "light"
     },
     "output_type": "display_data"
    }
   ],
   "source": [
    "pd.DataFrame(uniform_data).plot(kind='density')"
   ]
  },
  {
   "cell_type": "code",
   "execution_count": 44,
   "id": "3047cdce",
   "metadata": {},
   "outputs": [
    {
     "data": {
      "text/plain": [
       "0.25"
      ]
     },
     "execution_count": 44,
     "metadata": {},
     "output_type": "execute_result"
    }
   ],
   "source": [
    "# cdf is used to find the probability that an observation drawn from the distribution falls below a specific value\n",
    "# it gives area under the distribution's density curve upto a certain value on the x axis\n",
    "stats.uniform.cdf(x=2.5, #cutoff value (quantile) to check\n",
    "                 loc=0,\n",
    "                 scale=10)\n",
    "# In the uniform distribution we have, there is a 25% chance that an observation will be in the range 0 to 2.5 and \n",
    "# 75% chance that it will fall in the range 2.5 to 10"
   ]
  },
  {
   "cell_type": "code",
   "execution_count": 45,
   "id": "579bdb0e",
   "metadata": {},
   "outputs": [
    {
     "data": {
      "text/plain": [
       "4.0"
      ]
     },
     "execution_count": 45,
     "metadata": {},
     "output_type": "execute_result"
    }
   ],
   "source": [
    "# ppf is inverse of cdf\n",
    "# it return x axist cutoff value associated with a given probability\n",
    "# example - get cutoff value for which we have 40% chance of drawing an observation below that value\n",
    "stats.uniform.ppf(q=0.4, #probability cutoff\n",
    "                 loc=0, #distribution start\n",
    "                 scale=10) #distribution end\n",
    "# At x axis value of 4, we can slice the distribution such that 40% of it is to the left"
   ]
  },
  {
   "cell_type": "code",
   "execution_count": 48,
   "id": "ec665bf0",
   "metadata": {},
   "outputs": [
    {
     "name": "stdout",
     "output_type": "stream",
     "text": [
      "Density at x value -1.\n",
      "0.0\n",
      "Density at x value 2.\n",
      "0.1\n",
      "Density at x value 5.\n",
      "0.1\n",
      "Density at x value 8.\n",
      "0.1\n",
      "Density at x value 11.\n",
      "0.0\n"
     ]
    }
   ],
   "source": [
    "# pdf gives the actual probability density (i.e height of the distribution) at a given value of x\n",
    "# since uniform distribution is flat, all x values within its range will have same probability density and all values\n",
    "# outside of that range with have probability density of 0\n",
    "for x in range(-1,12,3):\n",
    "    print (f\"Density at x value {x}.\")\n",
    "    print(stats.uniform.pdf(x,loc=0,scale=10))"
   ]
  },
  {
   "cell_type": "markdown",
   "id": "0f9494b4",
   "metadata": {},
   "source": [
    "### Normal distribution/Gaussian distribution"
   ]
  },
  {
   "cell_type": "code",
   "execution_count": null,
   "id": "decd798c",
   "metadata": {},
   "outputs": [],
   "source": [
    "from scipy.stats import norm\n",
    "stats.norm.rvs()"
   ]
  },
  {
   "cell_type": "code",
   "execution_count": 33,
   "id": "cc5d40d4",
   "metadata": {},
   "outputs": [
    {
     "data": {
      "image/png": "[encoded data removed]",
      "text/plain": [
       "<Figure size 432x288 with 1 Axes>"
      ]
     },
     "metadata": {
      "needs_background": "light"
     },
     "output_type": "display_data"
    }
   ],
   "source": [
    "import numpy as np\n",
    "import matplotlib.pyplot as plt\n",
    "mu, sigma = 0.5, 0.1\n",
    "s = np.random.normal(mu, sigma, 1000)\n",
    "plt.hist(s, bins=25, density=True, alpha=0.6, color='b')\n",
    "plt.show()"
   ]
  },
  {
   "cell_type": "code",
   "execution_count": 58,
   "id": "f66cc27f",
   "metadata": {},
   "outputs": [
    {
     "name": "stdout",
     "output_type": "stream",
     "text": [
      "-1.9599639845400545\n"
     ]
    }
   ],
   "source": [
    "#Find the quantile for the 2.5% cutoff\n",
    "print(stats.norm.ppf(q=0.025))"
   ]
  },
  {
   "cell_type": "code",
   "execution_count": 60,
   "id": "e7652af4",
   "metadata": {},
   "outputs": [
    {
     "name": "stdout",
     "output_type": "stream",
     "text": [
      "1.959963984540054\n"
     ]
    }
   ],
   "source": [
    "#Find the quantile for the 97.5% cutoff\n",
    "print(stats.norm.ppf(q=0.975))"
   ]
  },
  {
   "cell_type": "code",
   "execution_count": 61,
   "id": "6bfbd3b2",
   "metadata": {},
   "outputs": [
    {
     "name": "stdout",
     "output_type": "stream",
     "text": [
      "0.0013498980316300933\n"
     ]
    }
   ],
   "source": [
    "#Find how much data is below -3\n",
    "print(stats.norm.cdf(x=-3))"
   ]
  },
  {
   "cell_type": "code",
   "execution_count": 62,
   "id": "f1507fe6",
   "metadata": {},
   "outputs": [
    {
     "name": "stdout",
     "output_type": "stream",
     "text": [
      "0.9986501019683699\n"
     ]
    }
   ],
   "source": [
    "#Find how much data is below 3\n",
    "print(stats.norm.cdf(x=3))"
   ]
  },
  {
   "cell_type": "markdown",
   "id": "0751f25e",
   "metadata": {},
   "source": [
    "### Binomial distribution\n",
    "- only 2 possible outcomes in a series of experiments (discrete probability distribution)\n",
    "- finding probability of success\n",
    "- 2 parameters: probability of success in any given trial and number of trials\n",
    "- Binomial distribution tells you how likely it is to achieve given number of successes in n trials of the experiment"
   ]
  },
  {
   "cell_type": "code",
   "execution_count": 68,
   "id": "ee2e7d14",
   "metadata": {},
   "outputs": [
    {
     "name": "stdout",
     "output_type": "stream",
     "text": [
      "col_0   0    1    2     3     4     5     6     7    8   9   10\n",
      "row_0                                                          \n",
      "counts  10  102  421  1162  2115  2442  2056  1170  440  72  10\n"
     ]
    },
    {
     "data": {
      "text/plain": [
       "array([[<AxesSubplot:title={'center':'0'}>]], dtype=object)"
      ]
     },
     "execution_count": 68,
     "metadata": {},
     "output_type": "execute_result"
    },
    {
     "data": {
      "image/png": "[encoded data removed]",
      "text/plain": [
       "<Figure size 432x288 with 1 Axes>"
      ]
     },
     "metadata": {
      "needs_background": "light"
     },
     "output_type": "display_data"
    }
   ],
   "source": [
    "# Flipping a fair coin 10 times = 1 trial\n",
    "from scipy.stats import binom\n",
    "\n",
    "coin=stats.binom.rvs(size=10000 # number of trials\n",
    "          ,n=10 #number of flips in a trial\n",
    "          ,p=0.5 #probability of success\n",
    "         )\n",
    "\n",
    "print(pd.crosstab(index=\"counts\",columns=coin))\n",
    "# The crosstab shows that getting 0 heads for all 10 times is really low. Out of 10,000, it was only 10 times that all\n",
    "# flips were tails\n",
    "# Same way, getting 10 heads in a row is really unlikely. That happened only 3 times.\n",
    "pd.DataFrame(coin).hist()"
   ]
  },
  {
   "cell_type": "code",
   "execution_count": 69,
   "id": "ef2d4077",
   "metadata": {},
   "outputs": [
    {
     "name": "stdout",
     "output_type": "stream",
     "text": [
      "col_0   2   3   4    5    6     7     8     9     10\n",
      "row_0                                               \n",
      "counts   1   6  75  260  895  2045  2962  2645  1111\n"
     ]
    },
    {
     "data": {
      "text/plain": [
       "array([[<AxesSubplot:title={'center':'0'}>]], dtype=object)"
      ]
     },
     "execution_count": 69,
     "metadata": {},
     "output_type": "execute_result"
    },
    {
     "data": {
      "image/png": "[encoded data removed]",
      "text/plain": [
       "<Figure size 432x288 with 1 Axes>"
      ]
     },
     "metadata": {
      "needs_background": "light"
     },
     "output_type": "display_data"
    }
   ],
   "source": [
    "# Flipping a UNFAIR coin 10 times = 1 trial\n",
    "from scipy.stats import binom\n",
    "\n",
    "coin=stats.binom.rvs(size=10000 # number of trials\n",
    "          ,n=10 #number of flips in a trial\n",
    "          ,p=0.8 #probability of success\n",
    "         )\n",
    "\n",
    "print(pd.crosstab(index=\"counts\",columns=coin))\n",
    "# The crosstab shows that getting 0 heads for all 10 times is really low. Out of 10,000, it was only 10 times that all\n",
    "# flips were tails\n",
    "# Same way, getting 10 heads in a row is really unlikely. That happened only 3 times.\n",
    "pd.DataFrame(coin).hist()"
   ]
  },
  {
   "cell_type": "code",
   "execution_count": 70,
   "id": "97d13957",
   "metadata": {},
   "outputs": [
    {
     "data": {
      "text/plain": [
       "0.03279349759999997"
      ]
     },
     "execution_count": 70,
     "metadata": {},
     "output_type": "execute_result"
    }
   ],
   "source": [
    "#cdf() function lets you check the probability of achieving a number of successes within a certain range\n",
    "stats.binom.cdf(k=5, #probability of 5 success or less\n",
    "               n=10, #with 10 flips\n",
    "               p=0.8) #success probability 0.8"
   ]
  },
  {
   "cell_type": "code",
   "execution_count": 71,
   "id": "2568f869",
   "metadata": {},
   "outputs": [
    {
     "data": {
      "text/plain": [
       "0.37580963840000015"
      ]
     },
     "execution_count": 71,
     "metadata": {},
     "output_type": "execute_result"
    }
   ],
   "source": [
    "1-stats.binom.cdf(k=8, #probability of MORE than 8 success\n",
    "               n=10, #with 10 flips\n",
    "               p=0.8) #success probability 0.8"
   ]
  },
  {
   "cell_type": "code",
   "execution_count": 72,
   "id": "0d43b43e",
   "metadata": {},
   "outputs": [
    {
     "data": {
      "text/plain": [
       "0.24609375000000003"
      ]
     },
     "execution_count": 72,
     "metadata": {},
     "output_type": "execute_result"
    }
   ],
   "source": [
    "#For discrete distri, there is no pdf to check probability density at value x\n",
    "#There is pmf (probability mass function) which gives proportion of observations at given number of success k\n",
    "stats.binom.pmf(k=5, #probability of 5 success \n",
    "               n=10, #with 10 flips\n",
    "               p=0.5) #success probability 0.8"
   ]
  },
  {
   "cell_type": "markdown",
   "id": "7f87b201",
   "metadata": {},
   "source": [
    "### Geometric distribution\n",
    "- Model the amount of time it takes for an event to occur\n",
    "- Discrete\n",
    "- Models the amount of trials it takes to achieve success in a repeated experiment with a given probability of success"
   ]
  },
  {
   "cell_type": "code",
   "execution_count": 73,
   "id": "3356fdcc",
   "metadata": {},
   "outputs": [
    {
     "name": "stdout",
     "output_type": "stream",
     "text": [
      "col_0     1     2     3    4    5    6   7   8   9   10  11  12  13  14\n",
      "row_0                                                                  \n",
      "counts  5078  2502  1245  598  303  133  78  25  19   9   4   3   2   1\n"
     ]
    },
    {
     "data": {
      "text/plain": [
       "array([[<AxesSubplot:title={'center':'0'}>]], dtype=object)"
      ]
     },
     "execution_count": 73,
     "metadata": {},
     "output_type": "execute_result"
    },
    {
     "data": {
      "image/png": "[encoded data removed]",
      "text/plain": [
       "<Figure size 432x288 with 1 Axes>"
      ]
     },
     "metadata": {
      "needs_background": "light"
     },
     "output_type": "display_data"
    }
   ],
   "source": [
    "# If success = heads, how many trials does it take to get success when filpping a fair coin\n",
    "heads = stats.geom.rvs(size = 10000, #We generate 10000 trails of flips\n",
    "                      p=0.5) #fair coin\n",
    "\n",
    "print(pd.crosstab(index=\"counts\", columns = heads))\n",
    "#In the crosstab we can see, half of the time, it takes only 1 flip to get a head. \n",
    "#That makes sense as we are flipping a fair coin\n",
    "\n",
    "\n",
    "pd.DataFrame(heads).hist()\n",
    "# So the graph is right skewed\n"
   ]
  },
  {
   "cell_type": "code",
   "execution_count": 75,
   "id": "be66ef28",
   "metadata": {},
   "outputs": [
    {
     "name": "stdout",
     "output_type": "stream",
     "text": [
      "0.96875\n",
      "0.03125\n"
     ]
    }
   ],
   "source": [
    "# Get probability of success in first 5 flips\n",
    "first_five = stats.geom.cdf(k=5,\n",
    "                           p=0.5)\n",
    "print(first_five)\n",
    "#Probability of getting success in 6 or more flips\n",
    "print(1-first_five)\n",
    "# As expected, it takes a low value of only 3.1%. So only 3.1% of the times, it takes 6 or\n",
    "#more flips to get success on a fair coin"
   ]
  },
  {
   "cell_type": "code",
   "execution_count": 76,
   "id": "2e06c862",
   "metadata": {},
   "outputs": [
    {
     "data": {
      "text/plain": [
       "0.25"
      ]
     },
     "execution_count": 76,
     "metadata": {},
     "output_type": "execute_result"
    }
   ],
   "source": [
    "#Probability of needing exactly 2 flips to get the first success\n",
    "stats.geom.pmf(k=2,\n",
    "              p=0.5)\n",
    "# 25% of the time, we will need exactly 2 flips to see a head"
   ]
  },
  {
   "cell_type": "markdown",
   "id": "6e80bcd3",
   "metadata": {},
   "source": [
    "### Exponential distribution\n",
    "- Model the amount of time it takes for an event to occur\n",
    "- Continuous version of geometric distribution\n",
    "- Models the amount of time you have to wait for a certain event to occur, given an occurance rate"
   ]
  },
  {
   "cell_type": "code",
   "execution_count": 77,
   "id": "892f23ff",
   "metadata": {},
   "outputs": [
    {
     "data": {
      "text/plain": [
       "0.36787944117144233"
      ]
     },
     "execution_count": 77,
     "metadata": {},
     "output_type": "execute_result"
    }
   ],
   "source": [
    "# Probability of waiting more than 1 time unit to get a success\n",
    "prob = stats.expon.cdf(x=1,\n",
    "                      scale=1) #arrival rate\n",
    "1-prob\n",
    "\n",
    "# Average arrival time for exponential distribution is 1/arrive_rate"
   ]
  },
  {
   "cell_type": "markdown",
   "id": "dfbf0c36",
   "metadata": {},
   "source": [
    "### Poisson distribution\n",
    "- Model's the probability of seeing a certain number of successes within a given time interval\n",
    "(where the time it takes for next event to occur is modeled by exponential distribution)"
   ]
  },
  {
   "cell_type": "code",
   "execution_count": 84,
   "id": "036682d5",
   "metadata": {},
   "outputs": [
    {
     "name": "stdout",
     "output_type": "stream",
     "text": [
      "col_0      0     1     2    3    4   5  6  7\n",
      "row_0                                       \n",
      "counts  3629  3707  1877  629  131  21  5  1\n"
     ]
    },
    {
     "data": {
      "text/plain": [
       "array([[<AxesSubplot:title={'center':'0'}>]], dtype=object)"
      ]
     },
     "execution_count": 84,
     "metadata": {},
     "output_type": "execute_result"
    },
    {
     "data": {
      "image/png": "[encoded data removed]",
      "text/plain": [
       "<Figure size 432x288 with 1 Axes>"
      ]
     },
     "metadata": {
      "needs_background": "light"
     },
     "output_type": "display_data"
    }
   ],
   "source": [
    "# Considering arrival rate of 1 per time unit, how many arrivals happen in 1 time unit\n",
    "arr = stats.poisson.rvs(size=10000,\n",
    "                       mu=1) #average arrival time 1\n",
    "\n",
    "print(pd.crosstab(index='counts', columns = arr))\n",
    "\n",
    "pd.DataFrame(arr).hist()\n",
    "\n",
    "#So we often see 0 arrival in 1 time unit, we see 1 and 2 arrivals in 1 time unit\n",
    "#We see more than 2 arrivals in that time with lesser probability\n",
    "#So sometimes we have more busy hours"
   ]
  },
  {
   "cell_type": "code",
   "execution_count": 87,
   "id": "627c1317",
   "metadata": {},
   "outputs": [
    {
     "name": "stdout",
     "output_type": "stream",
     "text": [
      "col_0   0   1   2   3    4    5    6    7     8     9   ...   15   16   17  \\\n",
      "row_0                                                   ...                  \n",
      "counts   1   4  15  71  190  379  636  921  1110  1272  ...  332  207  134   \n",
      "\n",
      "col_0   18  19  20  21  22  23  25  \n",
      "row_0                               \n",
      "counts  68  39  26   4   1   1   1  \n",
      "\n",
      "[1 rows x 25 columns]\n"
     ]
    },
    {
     "data": {
      "text/plain": [
       "array([[<AxesSubplot:title={'center':'0'}>]], dtype=object)"
      ]
     },
     "execution_count": 87,
     "metadata": {},
     "output_type": "execute_result"
    },
    {
     "data": {
      "image/png": "[encoded data removed]",
      "text/plain": [
       "<Figure size 432x288 with 1 Axes>"
      ]
     },
     "metadata": {
      "needs_background": "light"
     },
     "output_type": "display_data"
    }
   ],
   "source": [
    "# If we had a higher arrival rate, we would see not such a right skew as above\n",
    "arr = stats.poisson.rvs(size=10000,\n",
    "                       mu=10) #average arrival time 10\n",
    "\n",
    "print(pd.crosstab(index='counts', columns = arr))\n",
    "\n",
    "pd.DataFrame(arr).hist()\n",
    "\n",
    "#We can see here that sometimes here, we even see 20 arrivals when the arrival rate is 10/hour"
   ]
  },
  {
   "cell_type": "code",
   "execution_count": null,
   "id": "804407d4",
   "metadata": {},
   "outputs": [],
   "source": []
  }
 ],
 "metadata": {
  "kernelspec": {
   "display_name": "Python 3 (ipykernel)",
   "language": "python",
   "name": "python3"
  },
  "language_info": {
   "codemirror_mode": {
    "name": "ipython",
    "version": 3
   },
   "file_extension": ".py",
   "mimetype": "text/x-python",
   "name": "python",
   "nbconvert_exporter": "python",
   "pygments_lexer": "ipython3",
   "version": "3.7.0"
  }
 },
 "nbformat": 4,
 "nbformat_minor": 5
}
