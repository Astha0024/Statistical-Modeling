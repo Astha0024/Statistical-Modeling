{
 "cells": [
  {
   "cell_type": "markdown",
   "id": "325122ba",
   "metadata": {
    "papermill": {
     "duration": 0.011511,
     "end_time": "2022-02-13T05:32:08.400156",
     "exception": false,
     "start_time": "2022-02-13T05:32:08.388645",
     "status": "completed"
    },
    "tags": []
   },
   "source": [
    "### Test if average height of all coffee drinkers is greater than 70 inches"
   ]
  },
  {
   "cell_type": "markdown",
   "id": "1383e22b",
   "metadata": {
    "papermill": {
     "duration": 0.010201,
     "end_time": "2022-02-13T05:32:08.423075",
     "exception": false,
     "start_time": "2022-02-13T05:32:08.412874",
     "status": "completed"
    },
    "tags": []
   },
   "source": [
    "### Approach 1: Using confidence interval to make a decision (simulate a sampling distribution for a statistic by bootstrapping our sample data)"
   ]
  },
  {
   "cell_type": "code",
   "execution_count": 1,
   "id": "d7fcafcc",
   "metadata": {
    "execution": {
     "iopub.execute_input": "2022-02-13T05:32:08.447852Z",
     "iopub.status.busy": "2022-02-13T05:32:08.446797Z",
     "iopub.status.idle": "2022-02-13T05:32:08.475928Z",
     "shell.execute_reply": "2022-02-13T05:32:08.475226Z",
     "shell.execute_reply.started": "2022-02-13T00:28:27.660302Z"
    },
    "papermill": {
     "duration": 0.042383,
     "end_time": "2022-02-13T05:32:08.476092",
     "exception": false,
     "start_time": "2022-02-13T05:32:08.433709",
     "status": "completed"
    },
    "tags": []
   },
   "outputs": [],
   "source": [
    "import pandas as pd\n",
    "import numpy as np\n",
    "import matplotlib.pyplot as plt\n",
    "%matplotlib inline\n",
    "np.random.seed(42)\n",
    "\n",
    "df = pd.read_csv('../input/coffee-dataset/coffee_dataset.csv')\n"
   ]
  },
  {
   "cell_type": "markdown",
   "id": "aeea0c32",
   "metadata": {
    "papermill": {
     "duration": 0.010201,
     "end_time": "2022-02-13T05:32:08.497109",
     "exception": false,
     "start_time": "2022-02-13T05:32:08.486908",
     "status": "completed"
    },
    "tags": []
   },
   "source": [
    "* Null hypotheses = mean height of all coffee drinkers is \"less than or equal to 70\"\n",
    "* Alternative hypothesis = mean height of all coffee drinkers is \"greater than 70\""
   ]
  },
  {
   "cell_type": "code",
   "execution_count": 2,
   "id": "d6614875",
   "metadata": {
    "collapsed": false,
    "execution": {
     "iopub.execute_input": "2022-02-13T05:32:08.521788Z",
     "iopub.status.busy": "2022-02-13T05:32:08.520743Z",
     "iopub.status.idle": "2022-02-13T05:32:11.836997Z",
     "shell.execute_reply": "2022-02-13T05:32:11.837512Z",
     "shell.execute_reply.started": "2022-02-12T18:17:30.550947Z"
    },
    "jupyter": {
     "outputs_hidden": false
    },
    "papermill": {
     "duration": 3.330061,
     "end_time": "2022-02-13T05:32:11.837698",
     "exception": false,
     "start_time": "2022-02-13T05:32:08.507637",
     "status": "completed"
    },
    "tags": []
   },
   "outputs": [],
   "source": [
    "# Bootstrap a sample set of data and compute the sample mean again and again\n",
    "# Build the sampling distribution and corresponding confidence interval to determine reasonable values for population mean with some level of confidence\n",
    "sample_df = df.sample(150)\n",
    "means = []\n",
    "\n",
    "for _ in range(10000):\n",
    "    bootsample = sample_df.sample(150, replace=True)\n",
    "    boot_mean = bootsample.height.mean()\n",
    "    means.append(boot_mean)\n",
    "\n",
    "low, upper = np.percentile(means, 2.5), np.percentile(means, 97.5)"
   ]
  },
  {
   "cell_type": "code",
   "execution_count": 3,
   "id": "76600e10",
   "metadata": {
    "collapsed": false,
    "execution": {
     "iopub.execute_input": "2022-02-13T05:32:11.867318Z",
     "iopub.status.busy": "2022-02-13T05:32:11.864990Z",
     "iopub.status.idle": "2022-02-13T05:32:12.203067Z",
     "shell.execute_reply": "2022-02-13T05:32:12.203577Z",
     "shell.execute_reply.started": "2022-02-12T18:17:45.274751Z"
    },
    "jupyter": {
     "outputs_hidden": false
    },
    "papermill": {
     "duration": 0.355262,
     "end_time": "2022-02-13T05:32:12.203769",
     "exception": false,
     "start_time": "2022-02-13T05:32:11.848507",
     "status": "completed"
    },
    "tags": []
   },
   "outputs": [
    {
     "data": {
      "text/plain": [
       "<matplotlib.lines.Line2D at 0x7f4e5f07da10>"
      ]
     },
     "execution_count": 3,
     "metadata": {},
     "output_type": "execute_result"
    },
    {
     "data": {
      "image/png": "[encoded data removed]",
      "text/plain": [
       "<Figure size 432x288 with 1 Axes>"
      ]
     },
     "metadata": {
      "needs_background": "light"
     },
     "output_type": "display_data"
    }
   ],
   "source": [
    "plt.hist(means)\n",
    "plt.axvline(x=low, color='r', linewidth=2)\n",
    "plt.axvline(x=upper, color='r', linewidth=2)"
   ]
  },
  {
   "cell_type": "code",
   "execution_count": 4,
   "id": "3715245d",
   "metadata": {
    "execution": {
     "iopub.execute_input": "2022-02-13T05:32:12.230766Z",
     "iopub.status.busy": "2022-02-13T05:32:12.230135Z",
     "iopub.status.idle": "2022-02-13T05:32:12.232563Z",
     "shell.execute_reply": "2022-02-13T05:32:12.232956Z",
     "shell.execute_reply.started": "2022-02-12T18:30:12.416834Z"
    },
    "papermill": {
     "duration": 0.017626,
     "end_time": "2022-02-13T05:32:12.233133",
     "exception": false,
     "start_time": "2022-02-13T05:32:12.215507",
     "status": "completed"
    },
    "tags": []
   },
   "outputs": [],
   "source": [
    "# Result: Look if the confidence interval falls in the null hypothesis space or in the alternative hypothesis space to choose which hypothesis we believe to be true\n",
    "# Here our interval is entirely below 70. This suggests the null i.e population mean < 70, is actually true. So we accept null."
   ]
  },
  {
   "cell_type": "markdown",
   "id": "a0abf00b",
   "metadata": {
    "papermill": {
     "duration": 0.011281,
     "end_time": "2022-02-13T05:32:12.255940",
     "exception": false,
     "start_time": "2022-02-13T05:32:12.244659",
     "status": "completed"
    },
    "tags": []
   },
   "source": [
    "### Approach 2: Assume null is true. Then get the sampling distribution and standard deviation of the sampling distribution. From CLT, we know this is a normal distribution. Take the value that is still in null, but closest to alternative hypothesis as the hypothesized mean. Now see where the sample mean falls in the distribution compared to hypothesized mean. (simulate a sampling distribution from the null hypothesis using characteristics that would be true if our data were to have come from null)\n",
    "\n",
    "### In our example, the hypothesized mean is 70"
   ]
  },
  {
   "cell_type": "code",
   "execution_count": 5,
   "id": "d314511d",
   "metadata": {
    "execution": {
     "iopub.execute_input": "2022-02-13T05:32:12.282900Z",
     "iopub.status.busy": "2022-02-13T05:32:12.282311Z",
     "iopub.status.idle": "2022-02-13T05:32:15.541327Z",
     "shell.execute_reply": "2022-02-13T05:32:15.540694Z",
     "shell.execute_reply.started": "2022-02-12T18:40:45.921309Z"
    },
    "papermill": {
     "duration": 3.273634,
     "end_time": "2022-02-13T05:32:15.541474",
     "exception": false,
     "start_time": "2022-02-13T05:32:12.267840",
     "status": "completed"
    },
    "tags": []
   },
   "outputs": [],
   "source": [
    "sample_df = df.sample(150)\n",
    "means = []\n",
    "\n",
    "for _ in range(10000):\n",
    "    bootsample = sample_df.sample(150, replace=True)\n",
    "    boot_mean = bootsample.height.mean()\n",
    "    means.append(boot_mean)"
   ]
  },
  {
   "cell_type": "code",
   "execution_count": 6,
   "id": "4cc1d181",
   "metadata": {
    "execution": {
     "iopub.execute_input": "2022-02-13T05:32:15.569889Z",
     "iopub.status.busy": "2022-02-13T05:32:15.569118Z",
     "iopub.status.idle": "2022-02-13T05:32:15.573647Z",
     "shell.execute_reply": "2022-02-13T05:32:15.574145Z",
     "shell.execute_reply.started": "2022-02-12T18:40:53.177977Z"
    },
    "papermill": {
     "duration": 0.021426,
     "end_time": "2022-02-13T05:32:15.574342",
     "exception": false,
     "start_time": "2022-02-13T05:32:15.552916",
     "status": "completed"
    },
    "tags": []
   },
   "outputs": [
    {
     "data": {
      "text/plain": [
       "0.26604712064152153"
      ]
     },
     "execution_count": 6,
     "metadata": {},
     "output_type": "execute_result"
    }
   ],
   "source": [
    "# The standard deviation of the sampling distribution\n",
    "np.std(means)"
   ]
  },
  {
   "cell_type": "code",
   "execution_count": 7,
   "id": "34a7e4cd",
   "metadata": {
    "execution": {
     "iopub.execute_input": "2022-02-13T05:32:15.600970Z",
     "iopub.status.busy": "2022-02-13T05:32:15.599995Z",
     "iopub.status.idle": "2022-02-13T05:32:15.748000Z",
     "shell.execute_reply": "2022-02-13T05:32:15.748531Z",
     "shell.execute_reply.started": "2022-02-12T18:45:29.303764Z"
    },
    "papermill": {
     "duration": 0.162896,
     "end_time": "2022-02-13T05:32:15.748708",
     "exception": false,
     "start_time": "2022-02-13T05:32:15.585812",
     "status": "completed"
    },
    "tags": []
   },
   "outputs": [
    {
     "data": {
      "text/plain": [
       "(array([3.800e+01, 2.580e+02, 1.114e+03, 2.515e+03, 3.042e+03, 2.115e+03,\n",
       "        7.620e+02, 1.390e+02, 1.600e+01, 1.000e+00]),\n",
       " array([69.07241396, 69.28584356, 69.49927316, 69.71270276, 69.92613236,\n",
       "        70.13956196, 70.35299156, 70.56642115, 70.77985075, 70.99328035,\n",
       "        71.20670995]),\n",
       " <BarContainer object of 10 artists>)"
      ]
     },
     "execution_count": 7,
     "metadata": {},
     "output_type": "execute_result"
    },
    {
     "data": {
      "image/png": "[encoded data removed]",
      "text/plain": [
       "<Figure size 432x288 with 1 Axes>"
      ]
     },
     "metadata": {
      "needs_background": "light"
     },
     "output_type": "display_data"
    }
   ],
   "source": [
    "# Simulate draws from the normal using the hyothesized mean 70, and the standard deviation of the sampling distribution\n",
    "null_vals = np.random.normal(70, np.std(means), 10000)\n",
    "plt.hist(null_vals)"
   ]
  },
  {
   "cell_type": "code",
   "execution_count": 8,
   "id": "cdcd8f5f",
   "metadata": {
    "execution": {
     "iopub.execute_input": "2022-02-13T05:32:15.777073Z",
     "iopub.status.busy": "2022-02-13T05:32:15.776425Z",
     "iopub.status.idle": "2022-02-13T05:32:15.780951Z",
     "shell.execute_reply": "2022-02-13T05:32:15.781469Z",
     "shell.execute_reply.started": "2022-02-12T18:46:54.048100Z"
    },
    "papermill": {
     "duration": 0.020608,
     "end_time": "2022-02-13T05:32:15.781638",
     "exception": false,
     "start_time": "2022-02-13T05:32:15.761030",
     "status": "completed"
    },
    "tags": []
   },
   "outputs": [
    {
     "data": {
      "text/plain": [
       "67.5849917188006"
      ]
     },
     "execution_count": 8,
     "metadata": {},
     "output_type": "execute_result"
    }
   ],
   "source": [
    "# Each of the simulated draws here represents a possible mean from the null hypothesis. \n",
    "# Now we can see where our sample mean falls in this distribution.\n",
    "sample_df.height.mean()"
   ]
  },
  {
   "cell_type": "code",
   "execution_count": 9,
   "id": "0af683de",
   "metadata": {
    "execution": {
     "iopub.execute_input": "2022-02-13T05:32:15.811069Z",
     "iopub.status.busy": "2022-02-13T05:32:15.810447Z",
     "iopub.status.idle": "2022-02-13T05:32:15.813072Z",
     "shell.execute_reply": "2022-02-13T05:32:15.813560Z",
     "shell.execute_reply.started": "2022-02-12T18:49:20.920431Z"
    },
    "papermill": {
     "duration": 0.018939,
     "end_time": "2022-02-13T05:32:15.813726",
     "exception": false,
     "start_time": "2022-02-13T05:32:15.794787",
     "status": "completed"
    },
    "tags": []
   },
   "outputs": [],
   "source": [
    "# The sample mean is way below the lower tail end of the distribution from null. \n",
    "# However, since our null is that the population mean is less than or equal to 70, we do have evidence to support this claim with our sample mean of approximately 67. \n",
    "# This would suggest not rejecting our one-sided null alternative.\n",
    "\n",
    "# If we had a null where we asked if the population mean was equal to 70, then we would be able to reject this null in favor of an alternative \n",
    "# that suggested the population mean was actually different from 70."
   ]
  },
  {
   "cell_type": "markdown",
   "id": "fd42a7de",
   "metadata": {
    "papermill": {
     "duration": 0.01225,
     "end_time": "2022-02-13T05:32:15.838735",
     "exception": false,
     "start_time": "2022-02-13T05:32:15.826485",
     "status": "completed"
    },
    "tags": []
   },
   "source": [
    "### Approach 3: using p value"
   ]
  },
  {
   "cell_type": "markdown",
   "id": "cdfd28d3",
   "metadata": {
    "papermill": {
     "duration": 0.012224,
     "end_time": "2022-02-13T05:32:15.863503",
     "exception": false,
     "start_time": "2022-02-13T05:32:15.851279",
     "status": "completed"
    },
    "tags": []
   },
   "source": [
    "* Calculate the value of the statistic you actually obtained in your data.\n",
    "* Simulate the values of your statistic that are possible from the null.\n",
    "* Compare your statistic to the values from the null.\n",
    "* Calculate the proportion of null values that are considered extreme based on your alternative."
   ]
  },
  {
   "cell_type": "code",
   "execution_count": 10,
   "id": "02996e4f",
   "metadata": {
    "execution": {
     "iopub.execute_input": "2022-02-13T05:32:15.892108Z",
     "iopub.status.busy": "2022-02-13T05:32:15.891471Z",
     "iopub.status.idle": "2022-02-13T05:32:15.895728Z",
     "shell.execute_reply": "2022-02-13T05:32:15.896275Z",
     "shell.execute_reply.started": "2022-02-13T00:32:35.255159Z"
    },
    "papermill": {
     "duration": 0.020374,
     "end_time": "2022-02-13T05:32:15.896448",
     "exception": false,
     "start_time": "2022-02-13T05:32:15.876074",
     "status": "completed"
    },
    "tags": []
   },
   "outputs": [],
   "source": [
    "# Calculate the value of the statistic you actually obtained in your data\n",
    "sample_df = df.sample(150)\n",
    "sample_mean = sample_df.height.mean()"
   ]
  },
  {
   "cell_type": "code",
   "execution_count": 11,
   "id": "fc075e05",
   "metadata": {
    "execution": {
     "iopub.execute_input": "2022-02-13T05:32:15.925342Z",
     "iopub.status.busy": "2022-02-13T05:32:15.924741Z",
     "iopub.status.idle": "2022-02-13T05:32:19.302985Z",
     "shell.execute_reply": "2022-02-13T05:32:19.302396Z",
     "shell.execute_reply.started": "2022-02-13T00:32:37.108743Z"
    },
    "papermill": {
     "duration": 3.394036,
     "end_time": "2022-02-13T05:32:19.303133",
     "exception": false,
     "start_time": "2022-02-13T05:32:15.909097",
     "status": "completed"
    },
    "tags": []
   },
   "outputs": [
    {
     "data": {
      "text/plain": [
       "1.0"
      ]
     },
     "execution_count": 11,
     "metadata": {},
     "output_type": "execute_result"
    }
   ],
   "source": [
    "# Simulate the values of your statistic that are possible from the null (say alternative hypothesis is pop mean > 70)\n",
    "# Then p value is proportion of simulated draws that are larger than sample mean\n",
    "means = []\n",
    "\n",
    "for _ in range(10000):\n",
    "    bootsample = sample_df.sample(150, replace=True)\n",
    "    boot_mean = bootsample.height.mean()\n",
    "    means.append(boot_mean)\n",
    "\n",
    "# Simulate draws from the normal using the hyothesized mean 70, and the standard deviation of the sampling distribution\n",
    "null_vals = np.random.normal(70, np.std(means), 10000)\n",
    "\n",
    "    \n",
    "(null_vals > sample_mean).mean()"
   ]
  },
  {
   "cell_type": "code",
   "execution_count": 12,
   "id": "181764bb",
   "metadata": {
    "execution": {
     "iopub.execute_input": "2022-02-13T05:32:19.335711Z",
     "iopub.status.busy": "2022-02-13T05:32:19.335072Z",
     "iopub.status.idle": "2022-02-13T05:32:19.337882Z",
     "shell.execute_reply": "2022-02-13T05:32:19.337417Z"
    },
    "papermill": {
     "duration": 0.02161,
     "end_time": "2022-02-13T05:32:19.338019",
     "exception": false,
     "start_time": "2022-02-13T05:32:19.316409",
     "status": "completed"
    },
    "tags": []
   },
   "outputs": [],
   "source": [
    "# Result: p value above is 1 so can't reject null of mean being <= 70"
   ]
  }
 ],
 "metadata": {
  "kernelspec": {
   "display_name": "Python 3",
   "language": "python",
   "name": "python3"
  },
  "language_info": {
   "codemirror_mode": {
    "name": "ipython",
    "version": 3
   },
   "file_extension": ".py",
   "mimetype": "text/x-python",
   "name": "python",
   "nbconvert_exporter": "python",
   "pygments_lexer": "ipython3",
   "version": "3.7.12"
  },
  "papermill": {
   "default_parameters": {},
   "duration": 20.219991,
   "end_time": "2022-02-13T05:32:19.961135",
   "environment_variables": {},
   "exception": null,
   "input_path": "__notebook__.ipynb",
   "output_path": "__notebook__.ipynb",
   "parameters": {},
   "start_time": "2022-02-13T05:31:59.741144",
   "version": "2.3.3"
  }
 },
 "nbformat": 4,
 "nbformat_minor": 5
}
